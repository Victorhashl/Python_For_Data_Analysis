{
 "cells": [
  {
   "cell_type": "markdown",
   "metadata": {},
   "source": [
    "### File Handling in Python"
   ]
  },
  {
   "cell_type": "code",
   "execution_count": 5,
   "metadata": {},
   "outputs": [
    {
     "name": "stdout",
     "output_type": "stream",
     "text": [
      "Sueña el rico en su riqueza,\n",
      "\n",
      "que más cuidados le ofrece;\n",
      "\n",
      "\n",
      "\n",
      "sueña el pobre que padece\n",
      "\n",
      "su miseria y su pobreza;\n",
      "\n",
      "\n",
      "\n",
      "sueña el que a medrar empieza,\n",
      "\n",
      "sueña el que afana y pretende,\n",
      "\n",
      "sueña el que agravia y ofende,\n",
      "\n",
      "\n",
      "\n",
      "y en el mundo, en conclusión,\n",
      "\n",
      "todos sueñan lo que son,\n",
      "\n",
      "aunque ninguno lo entiende.\n"
     ]
    }
   ],
   "source": [
    "path='segismundo.txt'\n",
    "fp=open(path,encoding='utf-8')\n",
    "for line in fp:\n",
    "    print(line)\n",
    "    \n",
    "fp.close()\n",
    "    "
   ]
  },
  {
   "cell_type": "code",
   "execution_count": 6,
   "metadata": {},
   "outputs": [
    {
     "data": {
      "text/plain": [
       "['Sueña el rico en su riqueza,',\n",
       " 'que más cuidados le ofrece;',\n",
       " '',\n",
       " 'sueña el pobre que padece',\n",
       " 'su miseria y su pobreza;',\n",
       " '',\n",
       " 'sueña el que a medrar empieza,',\n",
       " 'sueña el que afana y pretende,',\n",
       " 'sueña el que agravia y ofende,',\n",
       " '',\n",
       " 'y en el mundo, en conclusión,',\n",
       " 'todos sueñan lo que son,',\n",
       " 'aunque ninguno lo entiende.']"
      ]
     },
     "execution_count": 6,
     "metadata": {},
     "output_type": "execute_result"
    }
   ],
   "source": [
    "lines=[line.rstrip() for line in open(path,encoding='utf-8')]  ## This automatically closes the file\n",
    "lines"
   ]
  },
  {
   "cell_type": "code",
   "execution_count": 7,
   "metadata": {},
   "outputs": [
    {
     "data": {
      "text/plain": [
       "'Sueña el r'"
      ]
     },
     "execution_count": 7,
     "metadata": {},
     "output_type": "execute_result"
    }
   ],
   "source": [
    "f1=open(path)\n",
    "f1.read(10)"
   ]
  },
  {
   "cell_type": "code",
   "execution_count": 9,
   "metadata": {},
   "outputs": [
    {
     "data": {
      "text/plain": [
       "b'Sue\\xc3\\xb1a el '"
      ]
     },
     "execution_count": 9,
     "metadata": {},
     "output_type": "execute_result"
    }
   ],
   "source": [
    "f2=open(path,mode='rb')\n",
    "f2.read(10)\n"
   ]
  },
  {
   "cell_type": "code",
   "execution_count": 11,
   "metadata": {},
   "outputs": [
    {
     "name": "stdout",
     "output_type": "stream",
     "text": [
      "11\n",
      "10\n"
     ]
    }
   ],
   "source": [
    "print(f1.tell()) #output 11 as it took 11bytes to decode the 10 characters using the default utf-8 encoding\n",
    "print(f2.tell()) #output 10 as it took "
   ]
  },
  {
   "cell_type": "code",
   "execution_count": 14,
   "metadata": {},
   "outputs": [
    {
     "name": "stdout",
     "output_type": "stream",
     "text": [
      "ñ\n",
      "5\n"
     ]
    }
   ],
   "source": [
    "f1.seek(3) #output 3\n",
    "print(f1.read(1))\n",
    "print(f1.tell())\n",
    "f1.close()\n",
    "f2.close()"
   ]
  },
  {
   "cell_type": "code",
   "execution_count": 16,
   "metadata": {},
   "outputs": [
    {
     "data": {
      "text/plain": [
       "['SueÃ±a el rico en su riqueza,\\n',\n",
       " 'que mÃ¡s cuidados le ofrece;\\n',\n",
       " 'sueÃ±a el pobre que padece\\n',\n",
       " 'su miseria y su pobreza;\\n',\n",
       " 'sueÃ±a el que a medrar empieza,\\n',\n",
       " 'sueÃ±a el que afana y pretende,\\n',\n",
       " 'sueÃ±a el que agravia y ofende,\\n',\n",
       " 'y en el mundo, en conclusiÃ³n,\\n',\n",
       " 'todos sueÃ±an lo que son,\\n',\n",
       " 'aunque ninguno lo entiende.']"
      ]
     },
     "execution_count": 16,
     "metadata": {},
     "output_type": "execute_result"
    }
   ],
   "source": [
    "'''Writing to a file'''\n",
    "with open('tmp.txt','w') as handle:\n",
    "    handle.writelines(x for x in open(path) if len(x)>1)\n",
    "\n",
    "with open('tmp.txt') as f:\n",
    "    lines=f.readlines()\n",
    "lines"
   ]
  },
  {
   "cell_type": "code",
   "execution_count": 17,
   "metadata": {},
   "outputs": [
    {
     "name": "stdout",
     "output_type": "stream",
     "text": [
      "Sueña el r\n",
      "10\n"
     ]
    }
   ],
   "source": [
    "## Opening file containing non-ASCII characters with UTF-8 encoding\n",
    "with open(path,encoding='utf-8') as f:\n",
    "    chars=f.read(10)\n",
    "print(chars)\n",
    "print(len(chars))"
   ]
  },
  {
   "cell_type": "code",
   "execution_count": 19,
   "metadata": {},
   "outputs": [
    {
     "name": "stdout",
     "output_type": "stream",
     "text": [
      "b'Sue\\xc3\\xb1a el '\n"
     ]
    },
    {
     "data": {
      "text/plain": [
       "'Sueña el '"
      ]
     },
     "execution_count": 19,
     "metadata": {},
     "output_type": "execute_result"
    }
   ],
   "source": [
    "with open(path,mode='rb') as f3:\n",
    "    data=f3.read(10)\n",
    "\n",
    "print(data)\n",
    "data.decode('utf-8')\n",
    "data[:4].decode('utf-8') ## Unicocde decode error as it is trying to decode the first 4 bytes of the file"
   ]
  },
  {
   "cell_type": "code",
   "execution_count": 20,
   "metadata": {},
   "outputs": [
    {
     "name": "stdout",
     "output_type": "stream",
     "text": [
      "SueÃ±a el \n"
     ]
    }
   ],
   "source": [
    "sink_path='sink.txt'   \n",
    "'''Text mode, combined with the encoding option of open, provides a convenient way to convert from one Unicode encoding to another'''\n",
    "with open(path) as source:\n",
    "    with open(sink_path,'xt',encoding='iso-8859-1') as sink:\n",
    "        sink.write(source.read())\n",
    "        \n",
    "with open(sink_path,encoding='iso-8859-1') as f:\n",
    "    print(f.read(10))\n",
    "\n"
   ]
  },
  {
   "cell_type": "code",
   "execution_count": 24,
   "metadata": {},
   "outputs": [
    {
     "name": "stdout",
     "output_type": "stream",
     "text": [
      "Sueña\n",
      "4\n"
     ]
    }
   ],
   "source": [
    "## Cautiously use seek method when opening files in any mode(other than binary mode)\n",
    "f=open(path,encoding='utf-8')\n",
    "print(f.read(5))\n",
    "print(f.seek(4))\n",
    "# print(f.read(1)) ## UnicodeDecodeError: 'utf-8' codec can't decode byte 0xf3 in position 0: invalid continuation byte\n",
    "f.close()"
   ]
  }
 ],
 "metadata": {
  "kernelspec": {
   "display_name": "Python 3",
   "language": "python",
   "name": "python3"
  },
  "language_info": {
   "codemirror_mode": {
    "name": "ipython",
    "version": 3
   },
   "file_extension": ".py",
   "mimetype": "text/x-python",
   "name": "python",
   "nbconvert_exporter": "python",
   "pygments_lexer": "ipython3",
   "version": "3.12.5"
  }
 },
 "nbformat": 4,
 "nbformat_minor": 2
}
